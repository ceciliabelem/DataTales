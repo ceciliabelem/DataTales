{
 "cells": [
  {
   "cell_type": "code",
   "execution_count": 1,
   "id": "3c260db4",
   "metadata": {},
   "outputs": [],
   "source": [
    "# Importando bibliotecas\n",
    "import pandas as pd\n",
    "import matplotlib.pyplot as plt\n",
    "import seaborn as sns"
   ]
  },
  {
   "cell_type": "code",
   "execution_count": 3,
   "id": "61123b0d",
   "metadata": {},
   "outputs": [],
   "source": [
    "# Carregando o dataset\n",
    "titanic = pd.read_csv('C:\\\\Users\\\\Ivan\\\\Documents\\\\NTT\\\\Mentoria\\\\Titanic-Dataset.csv')"
   ]
  }
 ],
 "metadata": {
  "kernelspec": {
   "display_name": "Python 3",
   "language": "python",
   "name": "python3"
  },
  "language_info": {
   "codemirror_mode": {
    "name": "ipython",
    "version": 3
   },
   "file_extension": ".py",
   "mimetype": "text/x-python",
   "name": "python",
   "nbconvert_exporter": "python",
   "pygments_lexer": "ipython3",
   "version": "3.11.9"
  }
 },
 "nbformat": 4,
 "nbformat_minor": 5
}
